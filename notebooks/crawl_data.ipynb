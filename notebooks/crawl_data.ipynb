{
 "cells": [
  {
   "cell_type": "markdown",
   "metadata": {
    "id": "fnSdNLI501FY"
   },
   "source": [
    "## **Install Selenium**"
   ]
  },
  {
   "cell_type": "code",
   "execution_count": null,
   "metadata": {
    "colab": {
     "base_uri": "https://localhost:8080/"
    },
    "executionInfo": {
     "elapsed": 46844,
     "status": "ok",
     "timestamp": 1742289017872,
     "user": {
      "displayName": "Thang Duong",
      "userId": "11768822623611408806"
     },
     "user_tz": -540
    },
    "id": "ah6jEEaxqjJY",
    "outputId": "def3fcd0-32a7-416e-f8e5-595239939373"
   },
   "outputs": [],
   "source": [
    "%%shell\n",
    "# Ubuntu no longer distributes chromium-browser outside of snap\n",
    "#\n",
    "# Proposed solution: https://askubuntu.com/questions/1204571/how-to-install-chromium-without-snap\n",
    "\n",
    "# Add debian buster\n",
    "cat > /etc/apt/sources.list.d/debian.list << \"EOF\"\n",
    "deb [arch=amd64 signed-by=/usr/share/keyrings/debian-buster.gpg] http://deb.debian.org/debian buster main\n",
    "deb [arch=amd64 signed-by=/usr/share/keyrings/debian-buster-updates.gpg] http://deb.debian.org/debian buster-updates main\n",
    "deb [arch=amd64 signed-by=/usr/share/keyrings/debian-security-buster.gpg] http://deb.debian.org/debian-security buster/updates main\n",
    "EOF\n",
    "\n",
    "# Add keys\n",
    "apt-key adv --keyserver keyserver.ubuntu.com --recv-keys DCC9EFBF77E11517\n",
    "apt-key adv --keyserver keyserver.ubuntu.com --recv-keys 648ACFD622F3D138\n",
    "apt-key adv --keyserver keyserver.ubuntu.com --recv-keys 112695A0E562B32A\n",
    "\n",
    "apt-key export 77E11517 | gpg --dearmour -o /usr/share/keyrings/debian-buster.gpg\n",
    "apt-key export 22F3D138 | gpg --dearmour -o /usr/share/keyrings/debian-buster-updates.gpg\n",
    "apt-key export E562B32A | gpg --dearmour -o /usr/share/keyrings/debian-security-buster.gpg\n",
    "\n",
    "# Prefer debian repo for chromium* packages only\n",
    "# Note the double-blank lines between entries\n",
    "cat > /etc/apt/preferences.d/chromium.pref << \"EOF\"\n",
    "Package: *\n",
    "Pin: release a=eoan\n",
    "Pin-Priority: 500\n",
    "\n",
    "\n",
    "Package: *\n",
    "Pin: origin \"deb.debian.org\"\n",
    "Pin-Priority: 300\n",
    "\n",
    "\n",
    "Package: chromium*\n",
    "Pin: origin \"deb.debian.org\"\n",
    "Pin-Priority: 700\n",
    "EOF\n",
    "\n",
    "# Install chromium and chromium-driver\n",
    "apt-get update\n",
    "apt-get install chromium chromium-driver\n",
    "\n",
    "# Install selenium\n",
    "pip install selenium"
   ]
  },
  {
   "cell_type": "markdown",
   "metadata": {
    "id": "wkoO6Km_LC4h"
   },
   "source": [
    "## **Import libraries**"
   ]
  },
  {
   "cell_type": "code",
   "execution_count": null,
   "metadata": {
    "id": "s5zjbUowBamY"
   },
   "outputs": [],
   "source": [
    "import os\n",
    "import requests\n",
    "import time\n",
    "import json\n",
    "\n",
    "from tqdm import tqdm\n",
    "from selenium import webdriver\n",
    "from selenium.webdriver.chrome.service import Service\n",
    "from selenium.webdriver.common.by import By\n",
    "from selenium.webdriver.support.ui import WebDriverWait\n",
    "from selenium.webdriver.support import expected_conditions as EC"
   ]
  },
  {
   "cell_type": "markdown",
   "metadata": {
    "id": "UM85N4Wj1Bgs"
   },
   "source": [
    "## **Crawl audio**"
   ]
  },
  {
   "cell_type": "code",
   "execution_count": null,
   "metadata": {
    "id": "FC7OUM-vuA44"
   },
   "outputs": [],
   "source": [
    "WEBDRIVER_DELAY_TIME_INT = 10\n",
    "TIMEOUT_INT = 10\n",
    "service = Service(executable_path=r\"/usr/bin/chromedriver\")\n",
    "chrome_options = webdriver.ChromeOptions()\n",
    "chrome_options.add_argument(\"--headless\")\n",
    "chrome_options.add_argument(\"--no-sandbox\")\n",
    "chrome_options.add_argument(\"--disable-dev-shm-usage\")\n",
    "chrome_options.add_argument(\"window-size=1920x1080\")\n",
    "chrome_options.headless = True\n",
    "driver = webdriver.Chrome(service=service, options=chrome_options)\n",
    "driver.implicitly_wait(TIMEOUT_INT)\n",
    "wait = WebDriverWait(driver, WEBDRIVER_DELAY_TIME_INT)"
   ]
  },
  {
   "cell_type": "code",
   "execution_count": null,
   "metadata": {
    "id": "HXHnJiR5AzIY"
   },
   "outputs": [],
   "source": [
    "def extract_audio_links_from_menu(menu_url, driver):\n",
    "    driver.get(menu_url)\n",
    "    container = wait.until(EC.presence_of_element_located(\n",
    "        (By.CSS_SELECTOR, \"div.w-full.flex.flex-col.gap-3.pt-3\")\n",
    "    ))\n",
    "    play_items = container.find_elements(By.CSS_SELECTOR, \"div.play-item\")\n",
    "    links = []\n",
    "    for item in play_items:\n",
    "        try:\n",
    "            a_tag = item.find_element(By.CSS_SELECTOR, \".ptxt-track a\")\n",
    "            link = a_tag.get_attribute(\"href\")\n",
    "            links.append(link)\n",
    "        except Exception:\n",
    "            continue\n",
    "    return links"
   ]
  },
  {
   "cell_type": "code",
   "execution_count": null,
   "metadata": {
    "id": "rbT1fYHDX-9S"
   },
   "outputs": [],
   "source": [
    "def extract_track_info(driver):\n",
    "    audio_div = WebDriverWait(driver, 15).until(\n",
    "        EC.presence_of_element_located((By.CSS_SELECTOR, \"div[data-track-info]\"))\n",
    "    )\n",
    "    return json.loads(audio_div.get_attribute(\"data-track-info\"))\n",
    "\n",
    "def extract_genres(driver):\n",
    "    try:\n",
    "        genre_elem = driver.find_element(By.CSS_SELECTOR, \"span.md\\\\:col-span-6.flex.flex-wrap.gap-3\")\n",
    "        return [a.text.strip() for a in genre_elem.find_elements(By.TAG_NAME, \"a\") if a.text.strip()]\n",
    "    except Exception:\n",
    "        return []\n",
    "\n",
    "def extract_duration(driver):\n",
    "    try:\n",
    "        duration_elem = driver.find_element(By.CSS_SELECTOR, \"span.w-12.ml-auto.md\\\\:ml-0.col-span-2.inline-flex.justify-end.items-center\")\n",
    "        return duration_elem.text.strip()\n",
    "    except Exception:\n",
    "        return \"\"\n",
    "\n",
    "def extract_extra_info(driver):\n",
    "    instrumental = \"No\"\n",
    "    ai_generated = \"No\"\n",
    "    try:\n",
    "        info_container = driver.find_element(By.CSS_SELECTOR, \"div.px-8.py-2.bg-gray-light.flex.flex-col.divide-y.divide-gray\")\n",
    "        info_divs = info_container.find_elements(By.CSS_SELECTOR, \"div.grid.grid-cols-1.md\\\\:grid-cons-8.py-6\")\n",
    "        for div in info_divs:\n",
    "            label = div.find_element(By.CSS_SELECTOR, \"span.font-\\\\[500\\\\].md\\\\:col-span-2\").text.strip()\n",
    "            value = div.find_element(By.CSS_SELECTOR, \"span.md\\\\:col-span-6\").text.strip()\n",
    "            if \"Instrumental\" in label:\n",
    "                instrumental = value\n",
    "            if \"AI generated?\" in label:\n",
    "                ai_generated = value\n",
    "    except Exception:\n",
    "        pass\n",
    "    return instrumental, ai_generated\n",
    "\n",
    "def download_audio_file(file_url, filepath):\n",
    "    response = requests.get(file_url, stream=True)\n",
    "    if response.status_code == 200:\n",
    "        with open(filepath, \"wb\") as f:\n",
    "            for chunk in response.iter_content(chunk_size=8192):\n",
    "                f.write(chunk)\n",
    "    else:\n",
    "        print(f\"Error downloading file from {file_url}; status: {response.status_code}\")\n",
    "\n",
    "def process_audio_page(audio_url, driver, index):\n",
    "    driver.get(audio_url)\n",
    "\n",
    "    track_info = extract_track_info(driver)\n",
    "    file_url = track_info.get(\"fileUrl\", \"\")\n",
    "    audio_name = track_info.get(\"title\", \"\").strip()\n",
    "    author = track_info.get(\"artistName\", \"\").strip()\n",
    "\n",
    "    genres = extract_genres(driver)\n",
    "    duration = extract_duration(driver)\n",
    "    instrumental, ai_generated = extract_extra_info(driver)\n",
    "\n",
    "    metadata = {\n",
    "        \"audioName\": audio_name,\n",
    "        \"author\": author,\n",
    "        \"genres\": genres,\n",
    "        \"instrumental\": instrumental,\n",
    "        \"ai_generated\": ai_generated,\n",
    "        \"duration\": duration,\n",
    "        \"audio_url\": audio_url\n",
    "    }\n",
    "\n",
    "    audio_filename = f\"audio_{index:04d}.mp3\"\n",
    "    meta_filename = f\"audio_{index:04d}.json\"\n",
    "    audio_filepath = os.path.join(\"crawled_data\", \"audio\", audio_filename)\n",
    "    meta_filepath = os.path.join(\"crawled_data\", meta_filename)\n",
    "\n",
    "    download_audio_file(file_url, audio_filepath)\n",
    "\n",
    "    with open(meta_filepath, \"w\", encoding=\"utf-8\") as f:\n",
    "        json.dump(metadata, f, ensure_ascii=False, indent=4)\n",
    "\n",
    "    return metadata"
   ]
  },
  {
   "cell_type": "code",
   "execution_count": null,
   "metadata": {
    "id": "dEnz3LBMYIg1"
   },
   "outputs": [],
   "source": [
    "def loop_over_menu_pages(base_url, total_pages, driver):\n",
    "    all_links = []\n",
    "    for page in tqdm(range(1, total_pages + 1), desc=\"Extracting Links\", unit=\"page\"):\n",
    "        page_url = f\"{base_url}?page={page}\"\n",
    "        try:\n",
    "            links = extract_audio_links_from_menu(page_url, driver)\n",
    "            all_links.extend(links)\n",
    "        except Exception as e:\n",
    "            print(f\"Error on page {page}: {e}\")\n",
    "    return all_links"
   ]
  },
  {
   "cell_type": "code",
   "execution_count": null,
   "metadata": {
    "id": "5M3FhzX6v7Bm"
   },
   "outputs": [],
   "source": [
    "os.makedirs(\"crawled_data\", exist_ok=True)\n",
    "os.makedirs(os.path.join(\"crawled_data\", \"audio\"), exist_ok=True)\n",
    "\n",
    "list_genres = [\"piano\"]\n",
    "for genre in list_genres:\n",
    "    base_url = f\"https://freemusicarchive.org/genre/{genre}/\"\n",
    "    total_pages = 50\n",
    "    sample_idx = 1\n",
    "    audio_links = loop_over_menu_pages(base_url, total_pages, driver)\n",
    "    print(f\"Total audio links extracted: {len(audio_links)}\")\n",
    "\n",
    "    for audio_url in tqdm(audio_links, desc=\"Downloading Audio and Metadata\", unit=\"audio\"):\n",
    "        try:\n",
    "            process_audio_page(audio_url, driver, sample_idx)\n",
    "            sample_idx += 1\n",
    "        except:\n",
    "            print(f'Error at: {audio_url}')\n",
    "            continue\n",
    "        time.sleep(0.5)\n",
    "\n",
    "driver.quit()"
   ]
  },
  {
   "cell_type": "markdown",
   "metadata": {
    "id": "JCq0o_BhLHSg"
   },
   "source": [
    "## **Save crawled data**"
   ]
  },
  {
   "cell_type": "code",
   "execution_count": null,
   "metadata": {
    "id": "iC76lf_nT65q"
   },
   "outputs": [],
   "source": [
    "!zip -r crawled_piano_audio_50_pages.zip crawled_data"
   ]
  }
 ],
 "metadata": {
  "colab": {
   "provenance": []
  },
  "kernelspec": {
   "display_name": "Python 3",
   "name": "python3"
  },
  "language_info": {
   "name": "python"
  }
 },
 "nbformat": 4,
 "nbformat_minor": 0
}
